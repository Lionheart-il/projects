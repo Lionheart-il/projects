{
 "cells": [
  {
   "cell_type": "markdown",
   "metadata": {},
   "source": [
    "## Import libraries"
   ]
  },
  {
   "cell_type": "code",
   "execution_count": 2,
   "metadata": {},
   "outputs": [],
   "source": [
    "import pandas as pd\n",
    "import numpy as np\n",
    "import matplotlib.pyplot as plt\n",
    "import seaborn as sns\n",
    "import os\n",
    "%matplotlib inline"
   ]
  },
  {
   "cell_type": "markdown",
   "metadata": {},
   "source": [
    "## Import the data"
   ]
  },
  {
   "cell_type": "code",
   "execution_count": 3,
   "metadata": {},
   "outputs": [],
   "source": [
    "houses = pd.read_csv('houses_to_rent.csv')"
   ]
  },
  {
   "cell_type": "code",
   "execution_count": 4,
   "metadata": {},
   "outputs": [
    {
     "output_type": "execute_result",
     "data": {
      "text/plain": "   Unnamed: 0  city  area  rooms  bathroom  parking spaces floor     animal  \\\n0           0     1   240      3         3               4     -      acept   \n1           1     0    64      2         1               1    10      acept   \n2           2     1   443      5         5               4     3      acept   \n3           3     1    73      2         2               1    12      acept   \n4           4     1    19      1         1               0     -  not acept   \n\n       furniture      hoa rent amount property tax fire insurance     total  \n0      furnished      R$0     R$8,000      R$1,000          R$121   R$9,121  \n1  not furnished    R$540       R$820        R$122           R$11   R$1,493  \n2      furnished  R$4,172     R$7,000      R$1,417           R$89  R$12,680  \n3  not furnished    R$700     R$1,250        R$150           R$16   R$2,116  \n4  not furnished      R$0     R$1,200         R$41           R$16   R$1,257  ",
      "text/html": "<div>\n<style scoped>\n    .dataframe tbody tr th:only-of-type {\n        vertical-align: middle;\n    }\n\n    .dataframe tbody tr th {\n        vertical-align: top;\n    }\n\n    .dataframe thead th {\n        text-align: right;\n    }\n</style>\n<table border=\"1\" class=\"dataframe\">\n  <thead>\n    <tr style=\"text-align: right;\">\n      <th></th>\n      <th>Unnamed: 0</th>\n      <th>city</th>\n      <th>area</th>\n      <th>rooms</th>\n      <th>bathroom</th>\n      <th>parking spaces</th>\n      <th>floor</th>\n      <th>animal</th>\n      <th>furniture</th>\n      <th>hoa</th>\n      <th>rent amount</th>\n      <th>property tax</th>\n      <th>fire insurance</th>\n      <th>total</th>\n    </tr>\n  </thead>\n  <tbody>\n    <tr>\n      <th>0</th>\n      <td>0</td>\n      <td>1</td>\n      <td>240</td>\n      <td>3</td>\n      <td>3</td>\n      <td>4</td>\n      <td>-</td>\n      <td>acept</td>\n      <td>furnished</td>\n      <td>R$0</td>\n      <td>R$8,000</td>\n      <td>R$1,000</td>\n      <td>R$121</td>\n      <td>R$9,121</td>\n    </tr>\n    <tr>\n      <th>1</th>\n      <td>1</td>\n      <td>0</td>\n      <td>64</td>\n      <td>2</td>\n      <td>1</td>\n      <td>1</td>\n      <td>10</td>\n      <td>acept</td>\n      <td>not furnished</td>\n      <td>R$540</td>\n      <td>R$820</td>\n      <td>R$122</td>\n      <td>R$11</td>\n      <td>R$1,493</td>\n    </tr>\n    <tr>\n      <th>2</th>\n      <td>2</td>\n      <td>1</td>\n      <td>443</td>\n      <td>5</td>\n      <td>5</td>\n      <td>4</td>\n      <td>3</td>\n      <td>acept</td>\n      <td>furnished</td>\n      <td>R$4,172</td>\n      <td>R$7,000</td>\n      <td>R$1,417</td>\n      <td>R$89</td>\n      <td>R$12,680</td>\n    </tr>\n    <tr>\n      <th>3</th>\n      <td>3</td>\n      <td>1</td>\n      <td>73</td>\n      <td>2</td>\n      <td>2</td>\n      <td>1</td>\n      <td>12</td>\n      <td>acept</td>\n      <td>not furnished</td>\n      <td>R$700</td>\n      <td>R$1,250</td>\n      <td>R$150</td>\n      <td>R$16</td>\n      <td>R$2,116</td>\n    </tr>\n    <tr>\n      <th>4</th>\n      <td>4</td>\n      <td>1</td>\n      <td>19</td>\n      <td>1</td>\n      <td>1</td>\n      <td>0</td>\n      <td>-</td>\n      <td>not acept</td>\n      <td>not furnished</td>\n      <td>R$0</td>\n      <td>R$1,200</td>\n      <td>R$41</td>\n      <td>R$16</td>\n      <td>R$1,257</td>\n    </tr>\n  </tbody>\n</table>\n</div>"
     },
     "metadata": {},
     "execution_count": 4
    }
   ],
   "source": [
    "houses.head()"
   ]
  },
  {
   "cell_type": "markdown",
   "metadata": {},
   "source": [
    "## Clean the data"
   ]
  },
  {
   "cell_type": "code",
   "execution_count": 5,
   "metadata": {},
   "outputs": [],
   "source": [
    "# replace the R$'s\n",
    "import re\n",
    "replace_col = ['total','hoa','rent amount','property tax', 'fire insurance']\n",
    "\n",
    "#clean chars and convers to int\n",
    "for replaces in replace_col:\n",
    "  houses[replaces].replace(to_replace=\"[^0-9]\", value=\"\", regex=True, inplace=True)\n",
    "  houses[replaces] = pd.to_numeric(houses[replaces])"
   ]
  },
  {
   "cell_type": "code",
   "execution_count": 6,
   "metadata": {},
   "outputs": [],
   "source": [
    "#convert the \"-\" from floor to zero\n",
    "houses['floor'].replace(to_replace=\"[^0-9]\", value=0, regex=True, inplace=True)\n",
    "houses['floor'] = houses['floor'].astype(int)"
   ]
  },
  {
   "cell_type": "code",
   "execution_count": 7,
   "metadata": {},
   "outputs": [],
   "source": [
    "#drop the first column\n",
    "houses.drop('Unnamed: 0',axis = 1,inplace = True)"
   ]
  },
  {
   "cell_type": "code",
   "execution_count": 8,
   "metadata": {
    "tags": []
   },
   "outputs": [
    {
     "output_type": "stream",
     "name": "stdout",
     "text": "<class 'pandas.core.frame.DataFrame'>\nRangeIndex: 6080 entries, 0 to 6079\nData columns (total 13 columns):\n #   Column          Non-Null Count  Dtype  \n---  ------          --------------  -----  \n 0   city            6080 non-null   int64  \n 1   area            6080 non-null   int64  \n 2   rooms           6080 non-null   int64  \n 3   bathroom        6080 non-null   int64  \n 4   parking spaces  6080 non-null   int64  \n 5   floor           6080 non-null   int64  \n 6   animal          6080 non-null   object \n 7   furniture       6080 non-null   object \n 8   hoa             5878 non-null   float64\n 9   rent amount     6080 non-null   int64  \n 10  property tax    6053 non-null   float64\n 11  fire insurance  6080 non-null   int64  \n 12  total           6080 non-null   int64  \ndtypes: float64(2), int64(9), object(2)\nmemory usage: 617.6+ KB\n"
    }
   ],
   "source": [
    "houses.info()"
   ]
  },
  {
   "cell_type": "markdown",
   "metadata": {},
   "source": [
    "# Missing Values"
   ]
  },
  {
   "cell_type": "code",
   "execution_count": 10,
   "metadata": {},
   "outputs": [
    {
     "output_type": "execute_result",
     "data": {
      "text/plain": "city              0.000000\narea              0.000000\nrooms             0.000000\nbathroom          0.000000\nparking spaces    0.000000\nfloor             0.000000\nanimal            0.000000\nfurniture         0.000000\nhoa               3.322368\nrent amount       0.000000\nproperty tax      0.444079\nfire insurance    0.000000\ntotal             0.000000\ndtype: float64"
     },
     "metadata": {},
     "execution_count": 10
    }
   ],
   "source": [
    "houses.isnull().mean() * 100"
   ]
  },
  {
   "cell_type": "markdown",
   "metadata": {},
   "source": [
    "## Get Dummies"
   ]
  },
  {
   "cell_type": "code",
   "execution_count": 11,
   "metadata": {},
   "outputs": [],
   "source": [
    "houses = pd.get_dummies(houses, drop_first=True)"
   ]
  },
  {
   "cell_type": "markdown",
   "metadata": {},
   "source": [
    "### Multiple Imputations by Chained Equations(MICE)"
   ]
  },
  {
   "cell_type": "code",
   "execution_count": 12,
   "metadata": {},
   "outputs": [],
   "source": [
    "from sklearn.experimental import enable_iterative_imputer\n",
    "from sklearn.impute import IterativeImputer\n",
    "\n",
    "MICE_imputer = IterativeImputer()\n",
    "houses.iloc[:, :] = MICE_imputer.fit_transform(houses)"
   ]
  },
  {
   "cell_type": "markdown",
   "metadata": {},
   "source": [
    "# Clean the data II"
   ]
  },
  {
   "cell_type": "code",
   "execution_count": 13,
   "metadata": {},
   "outputs": [],
   "source": [
    "## remove duplicate rows\n",
    "houses = houses.drop_duplicates(keep=False)"
   ]
  },
  {
   "cell_type": "code",
   "execution_count": 14,
   "metadata": {},
   "outputs": [],
   "source": [
    "## since the area is skewed, let's break the area into groups\n",
    "houses['area_groups'] =  pd.cut(houses.area, [5,30,60,100,200,400,25000], include_lowest=True)\n"
   ]
  },
  {
   "cell_type": "code",
   "execution_count": 15,
   "metadata": {},
   "outputs": [],
   "source": [
    "## since the hoa is skewed, let's break the area into groups\n",
    "houses['hoa'] = np.where(houses['hoa'] < 0, 0, houses['hoa'])\n",
    "houses['hoa_groups'] = pd.cut(houses.hoa, [-100,250,700,1200,1500,3500,4000,220000], include_lowest=True)"
   ]
  },
  {
   "cell_type": "code",
   "execution_count": 16,
   "metadata": {},
   "outputs": [],
   "source": [
    "## since the property tax is skewed, let's break the area into groups\n",
    "houses['property tax'] = np.where(houses['property tax'] < 0, 0, houses['property tax'])\n",
    "houses['prop_tax_groups'] = pd.cut(houses['property tax'], [-100,35,147,459,1467,366300], include_lowest=True)"
   ]
  },
  {
   "cell_type": "markdown",
   "metadata": {},
   "source": [
    "## Scaling"
   ]
  },
  {
   "cell_type": "code",
   "execution_count": 17,
   "metadata": {},
   "outputs": [],
   "source": [
    "# get dummies again\n",
    "houses = pd.get_dummies(houses, drop_first=True)\n",
    "\n",
    "X = houses.drop('total', axis=1).values\n",
    "y = houses['total'].values"
   ]
  },
  {
   "cell_type": "code",
   "execution_count": 18,
   "metadata": {},
   "outputs": [],
   "source": [
    "from sklearn.preprocessing import StandardScaler\n",
    "\n",
    "st_scale = StandardScaler()\n",
    "X = st_scale.fit_transform(X)"
   ]
  },
  {
   "cell_type": "markdown",
   "metadata": {},
   "source": [
    "## Train - Test sep\n"
   ]
  },
  {
   "cell_type": "code",
   "execution_count": 19,
   "metadata": {},
   "outputs": [],
   "source": [
    "from sklearn.model_selection import train_test_split\n",
    "\n",
    "X_train, X_test, y_train, y_test = train_test_split(X, y,test_size = .33, random_state=0)"
   ]
  },
  {
   "cell_type": "markdown",
   "metadata": {},
   "source": [
    "## Import & Define the Models\n"
   ]
  },
  {
   "cell_type": "code",
   "execution_count": 52,
   "metadata": {},
   "outputs": [
    {
     "output_type": "execute_result",
     "data": {
      "text/plain": "LinearRegression()"
     },
     "metadata": {},
     "execution_count": 52
    }
   ],
   "source": [
    "from sklearn.linear_model import LinearRegression\n",
    "\n",
    "lr = LinearRegression()\n",
    "lr.fit(X_train,y_train)"
   ]
  },
  {
   "cell_type": "code",
   "execution_count": 54,
   "metadata": {},
   "outputs": [
    {
     "output_type": "execute_result",
     "data": {
      "text/plain": "array([2476.22128626, 2143.06825994, 3620.28633418, ..., 7845.30232713,\n       9149.37911136, 3775.56483998])"
     },
     "metadata": {},
     "execution_count": 54
    }
   ],
   "source": [
    "pred = lr.predict(X_test)\n",
    "pred"
   ]
  },
  {
   "cell_type": "markdown",
   "metadata": {},
   "source": [
    "## Predict with Pycaret"
   ]
  },
  {
   "cell_type": "code",
   "execution_count": 46,
   "metadata": {
    "tags": []
   },
   "outputs": [
    {
     "output_type": "stream",
     "name": "stdout",
     "text": "\nSetup Succesfully Completed!\n"
    },
    {
     "output_type": "display_data",
     "data": {
      "text/plain": "<pandas.io.formats.style.Styler at 0x7fdfea3e17d0>",
      "text/html": "<style  type=\"text/css\" >\n    #T_108019ce_c783_11ea_8f7f_acde48001122row1_col1 {\n            background-color:  lightgreen;\n        }    #T_108019ce_c783_11ea_8f7f_acde48001122row15_col1 {\n            background-color:  lightgreen;\n        }    #T_108019ce_c783_11ea_8f7f_acde48001122row17_col1 {\n            background-color:  lightgreen;\n        }    #T_108019ce_c783_11ea_8f7f_acde48001122row23_col1 {\n            background-color:  lightgreen;\n        }    #T_108019ce_c783_11ea_8f7f_acde48001122row28_col1 {\n            background-color:  lightgreen;\n        }</style><table id=\"T_108019ce_c783_11ea_8f7f_acde48001122\" ><thead>    <tr>        <th class=\"blank level0\" ></th>        <th class=\"col_heading level0 col0\" >Description</th>        <th class=\"col_heading level0 col1\" >Value</th>    </tr></thead><tbody>\n                <tr>\n                        <th id=\"T_108019ce_c783_11ea_8f7f_acde48001122level0_row0\" class=\"row_heading level0 row0\" >0</th>\n                        <td id=\"T_108019ce_c783_11ea_8f7f_acde48001122row0_col0\" class=\"data row0 col0\" >session_id</td>\n                        <td id=\"T_108019ce_c783_11ea_8f7f_acde48001122row0_col1\" class=\"data row0 col1\" >123</td>\n            </tr>\n            <tr>\n                        <th id=\"T_108019ce_c783_11ea_8f7f_acde48001122level0_row1\" class=\"row_heading level0 row1\" >1</th>\n                        <td id=\"T_108019ce_c783_11ea_8f7f_acde48001122row1_col0\" class=\"data row1 col0\" >Transform Target </td>\n                        <td id=\"T_108019ce_c783_11ea_8f7f_acde48001122row1_col1\" class=\"data row1 col1\" >True</td>\n            </tr>\n            <tr>\n                        <th id=\"T_108019ce_c783_11ea_8f7f_acde48001122level0_row2\" class=\"row_heading level0 row2\" >2</th>\n                        <td id=\"T_108019ce_c783_11ea_8f7f_acde48001122row2_col0\" class=\"data row2 col0\" >Transform Target Method</td>\n                        <td id=\"T_108019ce_c783_11ea_8f7f_acde48001122row2_col1\" class=\"data row2 col1\" >box-cox</td>\n            </tr>\n            <tr>\n                        <th id=\"T_108019ce_c783_11ea_8f7f_acde48001122level0_row3\" class=\"row_heading level0 row3\" >3</th>\n                        <td id=\"T_108019ce_c783_11ea_8f7f_acde48001122row3_col0\" class=\"data row3 col0\" >Original Data</td>\n                        <td id=\"T_108019ce_c783_11ea_8f7f_acde48001122row3_col1\" class=\"data row3 col1\" >(5755, 28)</td>\n            </tr>\n            <tr>\n                        <th id=\"T_108019ce_c783_11ea_8f7f_acde48001122level0_row4\" class=\"row_heading level0 row4\" >4</th>\n                        <td id=\"T_108019ce_c783_11ea_8f7f_acde48001122row4_col0\" class=\"data row4 col0\" >Missing Values </td>\n                        <td id=\"T_108019ce_c783_11ea_8f7f_acde48001122row4_col1\" class=\"data row4 col1\" >False</td>\n            </tr>\n            <tr>\n                        <th id=\"T_108019ce_c783_11ea_8f7f_acde48001122level0_row5\" class=\"row_heading level0 row5\" >5</th>\n                        <td id=\"T_108019ce_c783_11ea_8f7f_acde48001122row5_col0\" class=\"data row5 col0\" >Numeric Features </td>\n                        <td id=\"T_108019ce_c783_11ea_8f7f_acde48001122row5_col1\" class=\"data row5 col1\" >24</td>\n            </tr>\n            <tr>\n                        <th id=\"T_108019ce_c783_11ea_8f7f_acde48001122level0_row6\" class=\"row_heading level0 row6\" >6</th>\n                        <td id=\"T_108019ce_c783_11ea_8f7f_acde48001122row6_col0\" class=\"data row6 col0\" >Categorical Features </td>\n                        <td id=\"T_108019ce_c783_11ea_8f7f_acde48001122row6_col1\" class=\"data row6 col1\" >3</td>\n            </tr>\n            <tr>\n                        <th id=\"T_108019ce_c783_11ea_8f7f_acde48001122level0_row7\" class=\"row_heading level0 row7\" >7</th>\n                        <td id=\"T_108019ce_c783_11ea_8f7f_acde48001122row7_col0\" class=\"data row7 col0\" >Ordinal Features </td>\n                        <td id=\"T_108019ce_c783_11ea_8f7f_acde48001122row7_col1\" class=\"data row7 col1\" >False</td>\n            </tr>\n            <tr>\n                        <th id=\"T_108019ce_c783_11ea_8f7f_acde48001122level0_row8\" class=\"row_heading level0 row8\" >8</th>\n                        <td id=\"T_108019ce_c783_11ea_8f7f_acde48001122row8_col0\" class=\"data row8 col0\" >High Cardinality Features </td>\n                        <td id=\"T_108019ce_c783_11ea_8f7f_acde48001122row8_col1\" class=\"data row8 col1\" >False</td>\n            </tr>\n            <tr>\n                        <th id=\"T_108019ce_c783_11ea_8f7f_acde48001122level0_row9\" class=\"row_heading level0 row9\" >9</th>\n                        <td id=\"T_108019ce_c783_11ea_8f7f_acde48001122row9_col0\" class=\"data row9 col0\" >High Cardinality Method </td>\n                        <td id=\"T_108019ce_c783_11ea_8f7f_acde48001122row9_col1\" class=\"data row9 col1\" >None</td>\n            </tr>\n            <tr>\n                        <th id=\"T_108019ce_c783_11ea_8f7f_acde48001122level0_row10\" class=\"row_heading level0 row10\" >10</th>\n                        <td id=\"T_108019ce_c783_11ea_8f7f_acde48001122row10_col0\" class=\"data row10 col0\" >Sampled Data</td>\n                        <td id=\"T_108019ce_c783_11ea_8f7f_acde48001122row10_col1\" class=\"data row10 col1\" >(5755, 28)</td>\n            </tr>\n            <tr>\n                        <th id=\"T_108019ce_c783_11ea_8f7f_acde48001122level0_row11\" class=\"row_heading level0 row11\" >11</th>\n                        <td id=\"T_108019ce_c783_11ea_8f7f_acde48001122row11_col0\" class=\"data row11 col0\" >Transformed Train Set</td>\n                        <td id=\"T_108019ce_c783_11ea_8f7f_acde48001122row11_col1\" class=\"data row11 col1\" >(4028, 26)</td>\n            </tr>\n            <tr>\n                        <th id=\"T_108019ce_c783_11ea_8f7f_acde48001122level0_row12\" class=\"row_heading level0 row12\" >12</th>\n                        <td id=\"T_108019ce_c783_11ea_8f7f_acde48001122row12_col0\" class=\"data row12 col0\" >Transformed Test Set</td>\n                        <td id=\"T_108019ce_c783_11ea_8f7f_acde48001122row12_col1\" class=\"data row12 col1\" >(1727, 26)</td>\n            </tr>\n            <tr>\n                        <th id=\"T_108019ce_c783_11ea_8f7f_acde48001122level0_row13\" class=\"row_heading level0 row13\" >13</th>\n                        <td id=\"T_108019ce_c783_11ea_8f7f_acde48001122row13_col0\" class=\"data row13 col0\" >Numeric Imputer </td>\n                        <td id=\"T_108019ce_c783_11ea_8f7f_acde48001122row13_col1\" class=\"data row13 col1\" >mean</td>\n            </tr>\n            <tr>\n                        <th id=\"T_108019ce_c783_11ea_8f7f_acde48001122level0_row14\" class=\"row_heading level0 row14\" >14</th>\n                        <td id=\"T_108019ce_c783_11ea_8f7f_acde48001122row14_col0\" class=\"data row14 col0\" >Categorical Imputer </td>\n                        <td id=\"T_108019ce_c783_11ea_8f7f_acde48001122row14_col1\" class=\"data row14 col1\" >constant</td>\n            </tr>\n            <tr>\n                        <th id=\"T_108019ce_c783_11ea_8f7f_acde48001122level0_row15\" class=\"row_heading level0 row15\" >15</th>\n                        <td id=\"T_108019ce_c783_11ea_8f7f_acde48001122row15_col0\" class=\"data row15 col0\" >Normalize </td>\n                        <td id=\"T_108019ce_c783_11ea_8f7f_acde48001122row15_col1\" class=\"data row15 col1\" >True</td>\n            </tr>\n            <tr>\n                        <th id=\"T_108019ce_c783_11ea_8f7f_acde48001122level0_row16\" class=\"row_heading level0 row16\" >16</th>\n                        <td id=\"T_108019ce_c783_11ea_8f7f_acde48001122row16_col0\" class=\"data row16 col0\" >Normalize Method </td>\n                        <td id=\"T_108019ce_c783_11ea_8f7f_acde48001122row16_col1\" class=\"data row16 col1\" >zscore</td>\n            </tr>\n            <tr>\n                        <th id=\"T_108019ce_c783_11ea_8f7f_acde48001122level0_row17\" class=\"row_heading level0 row17\" >17</th>\n                        <td id=\"T_108019ce_c783_11ea_8f7f_acde48001122row17_col0\" class=\"data row17 col0\" >Transformation </td>\n                        <td id=\"T_108019ce_c783_11ea_8f7f_acde48001122row17_col1\" class=\"data row17 col1\" >True</td>\n            </tr>\n            <tr>\n                        <th id=\"T_108019ce_c783_11ea_8f7f_acde48001122level0_row18\" class=\"row_heading level0 row18\" >18</th>\n                        <td id=\"T_108019ce_c783_11ea_8f7f_acde48001122row18_col0\" class=\"data row18 col0\" >Transformation Method </td>\n                        <td id=\"T_108019ce_c783_11ea_8f7f_acde48001122row18_col1\" class=\"data row18 col1\" >yeo-johnson</td>\n            </tr>\n            <tr>\n                        <th id=\"T_108019ce_c783_11ea_8f7f_acde48001122level0_row19\" class=\"row_heading level0 row19\" >19</th>\n                        <td id=\"T_108019ce_c783_11ea_8f7f_acde48001122row19_col0\" class=\"data row19 col0\" >PCA </td>\n                        <td id=\"T_108019ce_c783_11ea_8f7f_acde48001122row19_col1\" class=\"data row19 col1\" >False</td>\n            </tr>\n            <tr>\n                        <th id=\"T_108019ce_c783_11ea_8f7f_acde48001122level0_row20\" class=\"row_heading level0 row20\" >20</th>\n                        <td id=\"T_108019ce_c783_11ea_8f7f_acde48001122row20_col0\" class=\"data row20 col0\" >PCA Method </td>\n                        <td id=\"T_108019ce_c783_11ea_8f7f_acde48001122row20_col1\" class=\"data row20 col1\" >None</td>\n            </tr>\n            <tr>\n                        <th id=\"T_108019ce_c783_11ea_8f7f_acde48001122level0_row21\" class=\"row_heading level0 row21\" >21</th>\n                        <td id=\"T_108019ce_c783_11ea_8f7f_acde48001122row21_col0\" class=\"data row21 col0\" >PCA Components </td>\n                        <td id=\"T_108019ce_c783_11ea_8f7f_acde48001122row21_col1\" class=\"data row21 col1\" >None</td>\n            </tr>\n            <tr>\n                        <th id=\"T_108019ce_c783_11ea_8f7f_acde48001122level0_row22\" class=\"row_heading level0 row22\" >22</th>\n                        <td id=\"T_108019ce_c783_11ea_8f7f_acde48001122row22_col0\" class=\"data row22 col0\" >Ignore Low Variance </td>\n                        <td id=\"T_108019ce_c783_11ea_8f7f_acde48001122row22_col1\" class=\"data row22 col1\" >False</td>\n            </tr>\n            <tr>\n                        <th id=\"T_108019ce_c783_11ea_8f7f_acde48001122level0_row23\" class=\"row_heading level0 row23\" >23</th>\n                        <td id=\"T_108019ce_c783_11ea_8f7f_acde48001122row23_col0\" class=\"data row23 col0\" >Combine Rare Levels </td>\n                        <td id=\"T_108019ce_c783_11ea_8f7f_acde48001122row23_col1\" class=\"data row23 col1\" >True</td>\n            </tr>\n            <tr>\n                        <th id=\"T_108019ce_c783_11ea_8f7f_acde48001122level0_row24\" class=\"row_heading level0 row24\" >24</th>\n                        <td id=\"T_108019ce_c783_11ea_8f7f_acde48001122row24_col0\" class=\"data row24 col0\" >Rare Level Threshold </td>\n                        <td id=\"T_108019ce_c783_11ea_8f7f_acde48001122row24_col1\" class=\"data row24 col1\" >0.050000</td>\n            </tr>\n            <tr>\n                        <th id=\"T_108019ce_c783_11ea_8f7f_acde48001122level0_row25\" class=\"row_heading level0 row25\" >25</th>\n                        <td id=\"T_108019ce_c783_11ea_8f7f_acde48001122row25_col0\" class=\"data row25 col0\" >Numeric Binning </td>\n                        <td id=\"T_108019ce_c783_11ea_8f7f_acde48001122row25_col1\" class=\"data row25 col1\" >False</td>\n            </tr>\n            <tr>\n                        <th id=\"T_108019ce_c783_11ea_8f7f_acde48001122level0_row26\" class=\"row_heading level0 row26\" >26</th>\n                        <td id=\"T_108019ce_c783_11ea_8f7f_acde48001122row26_col0\" class=\"data row26 col0\" >Remove Outliers </td>\n                        <td id=\"T_108019ce_c783_11ea_8f7f_acde48001122row26_col1\" class=\"data row26 col1\" >False</td>\n            </tr>\n            <tr>\n                        <th id=\"T_108019ce_c783_11ea_8f7f_acde48001122level0_row27\" class=\"row_heading level0 row27\" >27</th>\n                        <td id=\"T_108019ce_c783_11ea_8f7f_acde48001122row27_col0\" class=\"data row27 col0\" >Outliers Threshold </td>\n                        <td id=\"T_108019ce_c783_11ea_8f7f_acde48001122row27_col1\" class=\"data row27 col1\" >None</td>\n            </tr>\n            <tr>\n                        <th id=\"T_108019ce_c783_11ea_8f7f_acde48001122level0_row28\" class=\"row_heading level0 row28\" >28</th>\n                        <td id=\"T_108019ce_c783_11ea_8f7f_acde48001122row28_col0\" class=\"data row28 col0\" >Remove Multicollinearity </td>\n                        <td id=\"T_108019ce_c783_11ea_8f7f_acde48001122row28_col1\" class=\"data row28 col1\" >True</td>\n            </tr>\n            <tr>\n                        <th id=\"T_108019ce_c783_11ea_8f7f_acde48001122level0_row29\" class=\"row_heading level0 row29\" >29</th>\n                        <td id=\"T_108019ce_c783_11ea_8f7f_acde48001122row29_col0\" class=\"data row29 col0\" >Multicollinearity Threshold </td>\n                        <td id=\"T_108019ce_c783_11ea_8f7f_acde48001122row29_col1\" class=\"data row29 col1\" >0.950000</td>\n            </tr>\n            <tr>\n                        <th id=\"T_108019ce_c783_11ea_8f7f_acde48001122level0_row30\" class=\"row_heading level0 row30\" >30</th>\n                        <td id=\"T_108019ce_c783_11ea_8f7f_acde48001122row30_col0\" class=\"data row30 col0\" >Clustering </td>\n                        <td id=\"T_108019ce_c783_11ea_8f7f_acde48001122row30_col1\" class=\"data row30 col1\" >False</td>\n            </tr>\n            <tr>\n                        <th id=\"T_108019ce_c783_11ea_8f7f_acde48001122level0_row31\" class=\"row_heading level0 row31\" >31</th>\n                        <td id=\"T_108019ce_c783_11ea_8f7f_acde48001122row31_col0\" class=\"data row31 col0\" >Clustering Iteration </td>\n                        <td id=\"T_108019ce_c783_11ea_8f7f_acde48001122row31_col1\" class=\"data row31 col1\" >None</td>\n            </tr>\n            <tr>\n                        <th id=\"T_108019ce_c783_11ea_8f7f_acde48001122level0_row32\" class=\"row_heading level0 row32\" >32</th>\n                        <td id=\"T_108019ce_c783_11ea_8f7f_acde48001122row32_col0\" class=\"data row32 col0\" >Polynomial Features </td>\n                        <td id=\"T_108019ce_c783_11ea_8f7f_acde48001122row32_col1\" class=\"data row32 col1\" >False</td>\n            </tr>\n            <tr>\n                        <th id=\"T_108019ce_c783_11ea_8f7f_acde48001122level0_row33\" class=\"row_heading level0 row33\" >33</th>\n                        <td id=\"T_108019ce_c783_11ea_8f7f_acde48001122row33_col0\" class=\"data row33 col0\" >Polynomial Degree </td>\n                        <td id=\"T_108019ce_c783_11ea_8f7f_acde48001122row33_col1\" class=\"data row33 col1\" >None</td>\n            </tr>\n            <tr>\n                        <th id=\"T_108019ce_c783_11ea_8f7f_acde48001122level0_row34\" class=\"row_heading level0 row34\" >34</th>\n                        <td id=\"T_108019ce_c783_11ea_8f7f_acde48001122row34_col0\" class=\"data row34 col0\" >Trignometry Features </td>\n                        <td id=\"T_108019ce_c783_11ea_8f7f_acde48001122row34_col1\" class=\"data row34 col1\" >False</td>\n            </tr>\n            <tr>\n                        <th id=\"T_108019ce_c783_11ea_8f7f_acde48001122level0_row35\" class=\"row_heading level0 row35\" >35</th>\n                        <td id=\"T_108019ce_c783_11ea_8f7f_acde48001122row35_col0\" class=\"data row35 col0\" >Polynomial Threshold </td>\n                        <td id=\"T_108019ce_c783_11ea_8f7f_acde48001122row35_col1\" class=\"data row35 col1\" >None</td>\n            </tr>\n            <tr>\n                        <th id=\"T_108019ce_c783_11ea_8f7f_acde48001122level0_row36\" class=\"row_heading level0 row36\" >36</th>\n                        <td id=\"T_108019ce_c783_11ea_8f7f_acde48001122row36_col0\" class=\"data row36 col0\" >Group Features </td>\n                        <td id=\"T_108019ce_c783_11ea_8f7f_acde48001122row36_col1\" class=\"data row36 col1\" >False</td>\n            </tr>\n            <tr>\n                        <th id=\"T_108019ce_c783_11ea_8f7f_acde48001122level0_row37\" class=\"row_heading level0 row37\" >37</th>\n                        <td id=\"T_108019ce_c783_11ea_8f7f_acde48001122row37_col0\" class=\"data row37 col0\" >Feature Selection </td>\n                        <td id=\"T_108019ce_c783_11ea_8f7f_acde48001122row37_col1\" class=\"data row37 col1\" >False</td>\n            </tr>\n            <tr>\n                        <th id=\"T_108019ce_c783_11ea_8f7f_acde48001122level0_row38\" class=\"row_heading level0 row38\" >38</th>\n                        <td id=\"T_108019ce_c783_11ea_8f7f_acde48001122row38_col0\" class=\"data row38 col0\" >Features Selection Threshold </td>\n                        <td id=\"T_108019ce_c783_11ea_8f7f_acde48001122row38_col1\" class=\"data row38 col1\" >None</td>\n            </tr>\n            <tr>\n                        <th id=\"T_108019ce_c783_11ea_8f7f_acde48001122level0_row39\" class=\"row_heading level0 row39\" >39</th>\n                        <td id=\"T_108019ce_c783_11ea_8f7f_acde48001122row39_col0\" class=\"data row39 col0\" >Feature Interaction </td>\n                        <td id=\"T_108019ce_c783_11ea_8f7f_acde48001122row39_col1\" class=\"data row39 col1\" >False</td>\n            </tr>\n            <tr>\n                        <th id=\"T_108019ce_c783_11ea_8f7f_acde48001122level0_row40\" class=\"row_heading level0 row40\" >40</th>\n                        <td id=\"T_108019ce_c783_11ea_8f7f_acde48001122row40_col0\" class=\"data row40 col0\" >Feature Ratio </td>\n                        <td id=\"T_108019ce_c783_11ea_8f7f_acde48001122row40_col1\" class=\"data row40 col1\" >False</td>\n            </tr>\n            <tr>\n                        <th id=\"T_108019ce_c783_11ea_8f7f_acde48001122level0_row41\" class=\"row_heading level0 row41\" >41</th>\n                        <td id=\"T_108019ce_c783_11ea_8f7f_acde48001122row41_col0\" class=\"data row41 col0\" >Interaction Threshold </td>\n                        <td id=\"T_108019ce_c783_11ea_8f7f_acde48001122row41_col1\" class=\"data row41 col1\" >None</td>\n            </tr>\n    </tbody></table>"
     },
     "metadata": {}
    }
   ],
   "source": [
    "from pycaret.regression import *\n",
    "exp_reg102 = setup(data = houses, target = 'total', session_id=123,\n",
    "                  normalize = True, transformation = True, transform_target = True, \n",
    "                  combine_rare_levels = True, rare_level_threshold = 0.05,\n",
    "                  remove_multicollinearity = True, multicollinearity_threshold = 0.95) \n",
    "                  "
   ]
  },
  {
   "cell_type": "code",
   "execution_count": 47,
   "metadata": {},
   "outputs": [
    {
     "output_type": "execute_result",
     "data": {
      "text/plain": "<pandas.io.formats.style.Styler at 0x7fdfea461b10>",
      "text/html": "<style  type=\"text/css\" >\n    #T_4386daba_c783_11ea_8f7f_acde48001122 th {\n          text-align: left;\n    }    #T_4386daba_c783_11ea_8f7f_acde48001122row0_col0 {\n            text-align:  left;\n        }    #T_4386daba_c783_11ea_8f7f_acde48001122row0_col1 {\n            : ;\n            text-align:  left;\n        }    #T_4386daba_c783_11ea_8f7f_acde48001122row0_col2 {\n            : ;\n            text-align:  left;\n        }    #T_4386daba_c783_11ea_8f7f_acde48001122row0_col3 {\n            : ;\n            text-align:  left;\n        }    #T_4386daba_c783_11ea_8f7f_acde48001122row0_col4 {\n            text-align:  left;\n        }    #T_4386daba_c783_11ea_8f7f_acde48001122row0_col5 {\n            : ;\n            text-align:  left;\n        }    #T_4386daba_c783_11ea_8f7f_acde48001122row0_col6 {\n            : ;\n            text-align:  left;\n        }    #T_4386daba_c783_11ea_8f7f_acde48001122row1_col0 {\n            text-align:  left;\n        }    #T_4386daba_c783_11ea_8f7f_acde48001122row1_col1 {\n            : ;\n            text-align:  left;\n        }    #T_4386daba_c783_11ea_8f7f_acde48001122row1_col2 {\n            : ;\n            text-align:  left;\n        }    #T_4386daba_c783_11ea_8f7f_acde48001122row1_col3 {\n            background-color:  yellow;\n            text-align:  left;\n        }    #T_4386daba_c783_11ea_8f7f_acde48001122row1_col4 {\n            text-align:  left;\n        }    #T_4386daba_c783_11ea_8f7f_acde48001122row1_col5 {\n            : ;\n            text-align:  left;\n        }    #T_4386daba_c783_11ea_8f7f_acde48001122row1_col6 {\n            : ;\n            text-align:  left;\n        }    #T_4386daba_c783_11ea_8f7f_acde48001122row2_col0 {\n            text-align:  left;\n        }    #T_4386daba_c783_11ea_8f7f_acde48001122row2_col1 {\n            : ;\n            text-align:  left;\n        }    #T_4386daba_c783_11ea_8f7f_acde48001122row2_col2 {\n            : ;\n            text-align:  left;\n        }    #T_4386daba_c783_11ea_8f7f_acde48001122row2_col3 {\n            : ;\n            text-align:  left;\n        }    #T_4386daba_c783_11ea_8f7f_acde48001122row2_col4 {\n            text-align:  left;\n        }    #T_4386daba_c783_11ea_8f7f_acde48001122row2_col5 {\n            : ;\n            text-align:  left;\n        }    #T_4386daba_c783_11ea_8f7f_acde48001122row2_col6 {\n            : ;\n            text-align:  left;\n        }    #T_4386daba_c783_11ea_8f7f_acde48001122row3_col0 {\n            text-align:  left;\n        }    #T_4386daba_c783_11ea_8f7f_acde48001122row3_col1 {\n            background-color:  yellow;\n            text-align:  left;\n        }    #T_4386daba_c783_11ea_8f7f_acde48001122row3_col2 {\n            : ;\n            text-align:  left;\n        }    #T_4386daba_c783_11ea_8f7f_acde48001122row3_col3 {\n            : ;\n            text-align:  left;\n        }    #T_4386daba_c783_11ea_8f7f_acde48001122row3_col4 {\n            text-align:  left;\n        }    #T_4386daba_c783_11ea_8f7f_acde48001122row3_col5 {\n            background-color:  yellow;\n            text-align:  left;\n        }    #T_4386daba_c783_11ea_8f7f_acde48001122row3_col6 {\n            background-color:  yellow;\n            text-align:  left;\n        }    #T_4386daba_c783_11ea_8f7f_acde48001122row4_col0 {\n            text-align:  left;\n        }    #T_4386daba_c783_11ea_8f7f_acde48001122row4_col1 {\n            : ;\n            text-align:  left;\n        }    #T_4386daba_c783_11ea_8f7f_acde48001122row4_col2 {\n            : ;\n            text-align:  left;\n        }    #T_4386daba_c783_11ea_8f7f_acde48001122row4_col3 {\n            : ;\n            text-align:  left;\n        }    #T_4386daba_c783_11ea_8f7f_acde48001122row4_col4 {\n            text-align:  left;\n        }    #T_4386daba_c783_11ea_8f7f_acde48001122row4_col5 {\n            : ;\n            text-align:  left;\n        }    #T_4386daba_c783_11ea_8f7f_acde48001122row4_col6 {\n            : ;\n            text-align:  left;\n        }    #T_4386daba_c783_11ea_8f7f_acde48001122row5_col0 {\n            text-align:  left;\n        }    #T_4386daba_c783_11ea_8f7f_acde48001122row5_col1 {\n            : ;\n            text-align:  left;\n        }    #T_4386daba_c783_11ea_8f7f_acde48001122row5_col2 {\n            : ;\n            text-align:  left;\n        }    #T_4386daba_c783_11ea_8f7f_acde48001122row5_col3 {\n            : ;\n            text-align:  left;\n        }    #T_4386daba_c783_11ea_8f7f_acde48001122row5_col4 {\n            text-align:  left;\n        }    #T_4386daba_c783_11ea_8f7f_acde48001122row5_col5 {\n            : ;\n            text-align:  left;\n        }    #T_4386daba_c783_11ea_8f7f_acde48001122row5_col6 {\n            : ;\n            text-align:  left;\n        }    #T_4386daba_c783_11ea_8f7f_acde48001122row6_col0 {\n            text-align:  left;\n        }    #T_4386daba_c783_11ea_8f7f_acde48001122row6_col1 {\n            : ;\n            text-align:  left;\n        }    #T_4386daba_c783_11ea_8f7f_acde48001122row6_col2 {\n            background-color:  yellow;\n            text-align:  left;\n        }    #T_4386daba_c783_11ea_8f7f_acde48001122row6_col3 {\n            : ;\n            text-align:  left;\n        }    #T_4386daba_c783_11ea_8f7f_acde48001122row6_col4 {\n            text-align:  left;\n        }    #T_4386daba_c783_11ea_8f7f_acde48001122row6_col5 {\n            : ;\n            text-align:  left;\n        }    #T_4386daba_c783_11ea_8f7f_acde48001122row6_col6 {\n            : ;\n            text-align:  left;\n        }    #T_4386daba_c783_11ea_8f7f_acde48001122row7_col0 {\n            text-align:  left;\n        }    #T_4386daba_c783_11ea_8f7f_acde48001122row7_col1 {\n            : ;\n            text-align:  left;\n        }    #T_4386daba_c783_11ea_8f7f_acde48001122row7_col2 {\n            : ;\n            text-align:  left;\n        }    #T_4386daba_c783_11ea_8f7f_acde48001122row7_col3 {\n            : ;\n            text-align:  left;\n        }    #T_4386daba_c783_11ea_8f7f_acde48001122row7_col4 {\n            text-align:  left;\n        }    #T_4386daba_c783_11ea_8f7f_acde48001122row7_col5 {\n            : ;\n            text-align:  left;\n        }    #T_4386daba_c783_11ea_8f7f_acde48001122row7_col6 {\n            : ;\n            text-align:  left;\n        }    #T_4386daba_c783_11ea_8f7f_acde48001122row8_col0 {\n            text-align:  left;\n        }    #T_4386daba_c783_11ea_8f7f_acde48001122row8_col1 {\n            : ;\n            text-align:  left;\n        }    #T_4386daba_c783_11ea_8f7f_acde48001122row8_col2 {\n            : ;\n            text-align:  left;\n        }    #T_4386daba_c783_11ea_8f7f_acde48001122row8_col3 {\n            : ;\n            text-align:  left;\n        }    #T_4386daba_c783_11ea_8f7f_acde48001122row8_col4 {\n            text-align:  left;\n        }    #T_4386daba_c783_11ea_8f7f_acde48001122row8_col5 {\n            : ;\n            text-align:  left;\n        }    #T_4386daba_c783_11ea_8f7f_acde48001122row8_col6 {\n            : ;\n            text-align:  left;\n        }    #T_4386daba_c783_11ea_8f7f_acde48001122row9_col0 {\n            text-align:  left;\n        }    #T_4386daba_c783_11ea_8f7f_acde48001122row9_col1 {\n            : ;\n            text-align:  left;\n        }    #T_4386daba_c783_11ea_8f7f_acde48001122row9_col2 {\n            : ;\n            text-align:  left;\n        }    #T_4386daba_c783_11ea_8f7f_acde48001122row9_col3 {\n            : ;\n            text-align:  left;\n        }    #T_4386daba_c783_11ea_8f7f_acde48001122row9_col4 {\n            text-align:  left;\n        }    #T_4386daba_c783_11ea_8f7f_acde48001122row9_col5 {\n            : ;\n            text-align:  left;\n        }    #T_4386daba_c783_11ea_8f7f_acde48001122row9_col6 {\n            : ;\n            text-align:  left;\n        }    #T_4386daba_c783_11ea_8f7f_acde48001122row10_col0 {\n            text-align:  left;\n        }    #T_4386daba_c783_11ea_8f7f_acde48001122row10_col1 {\n            : ;\n            text-align:  left;\n        }    #T_4386daba_c783_11ea_8f7f_acde48001122row10_col2 {\n            : ;\n            text-align:  left;\n        }    #T_4386daba_c783_11ea_8f7f_acde48001122row10_col3 {\n            : ;\n            text-align:  left;\n        }    #T_4386daba_c783_11ea_8f7f_acde48001122row10_col4 {\n            text-align:  left;\n        }    #T_4386daba_c783_11ea_8f7f_acde48001122row10_col5 {\n            : ;\n            text-align:  left;\n        }    #T_4386daba_c783_11ea_8f7f_acde48001122row10_col6 {\n            : ;\n            text-align:  left;\n        }    #T_4386daba_c783_11ea_8f7f_acde48001122row11_col0 {\n            text-align:  left;\n        }    #T_4386daba_c783_11ea_8f7f_acde48001122row11_col1 {\n            : ;\n            text-align:  left;\n        }    #T_4386daba_c783_11ea_8f7f_acde48001122row11_col2 {\n            : ;\n            text-align:  left;\n        }    #T_4386daba_c783_11ea_8f7f_acde48001122row11_col3 {\n            : ;\n            text-align:  left;\n        }    #T_4386daba_c783_11ea_8f7f_acde48001122row11_col4 {\n            text-align:  left;\n        }    #T_4386daba_c783_11ea_8f7f_acde48001122row11_col5 {\n            : ;\n            text-align:  left;\n        }    #T_4386daba_c783_11ea_8f7f_acde48001122row11_col6 {\n            : ;\n            text-align:  left;\n        }    #T_4386daba_c783_11ea_8f7f_acde48001122row12_col0 {\n            text-align:  left;\n        }    #T_4386daba_c783_11ea_8f7f_acde48001122row12_col1 {\n            : ;\n            text-align:  left;\n        }    #T_4386daba_c783_11ea_8f7f_acde48001122row12_col2 {\n            : ;\n            text-align:  left;\n        }    #T_4386daba_c783_11ea_8f7f_acde48001122row12_col3 {\n            : ;\n            text-align:  left;\n        }    #T_4386daba_c783_11ea_8f7f_acde48001122row12_col4 {\n            text-align:  left;\n        }    #T_4386daba_c783_11ea_8f7f_acde48001122row12_col5 {\n            : ;\n            text-align:  left;\n        }    #T_4386daba_c783_11ea_8f7f_acde48001122row12_col6 {\n            : ;\n            text-align:  left;\n        }    #T_4386daba_c783_11ea_8f7f_acde48001122row13_col0 {\n            text-align:  left;\n        }    #T_4386daba_c783_11ea_8f7f_acde48001122row13_col1 {\n            : ;\n            text-align:  left;\n        }    #T_4386daba_c783_11ea_8f7f_acde48001122row13_col2 {\n            : ;\n            text-align:  left;\n        }    #T_4386daba_c783_11ea_8f7f_acde48001122row13_col3 {\n            : ;\n            text-align:  left;\n        }    #T_4386daba_c783_11ea_8f7f_acde48001122row13_col4 {\n            text-align:  left;\n        }    #T_4386daba_c783_11ea_8f7f_acde48001122row13_col5 {\n            : ;\n            text-align:  left;\n        }    #T_4386daba_c783_11ea_8f7f_acde48001122row13_col6 {\n            : ;\n            text-align:  left;\n        }    #T_4386daba_c783_11ea_8f7f_acde48001122row14_col0 {\n            text-align:  left;\n        }    #T_4386daba_c783_11ea_8f7f_acde48001122row14_col1 {\n            : ;\n            text-align:  left;\n        }    #T_4386daba_c783_11ea_8f7f_acde48001122row14_col2 {\n            : ;\n            text-align:  left;\n        }    #T_4386daba_c783_11ea_8f7f_acde48001122row14_col3 {\n            : ;\n            text-align:  left;\n        }    #T_4386daba_c783_11ea_8f7f_acde48001122row14_col4 {\n            text-align:  left;\n        }    #T_4386daba_c783_11ea_8f7f_acde48001122row14_col5 {\n            : ;\n            text-align:  left;\n        }    #T_4386daba_c783_11ea_8f7f_acde48001122row14_col6 {\n            : ;\n            text-align:  left;\n        }    #T_4386daba_c783_11ea_8f7f_acde48001122row15_col0 {\n            text-align:  left;\n        }    #T_4386daba_c783_11ea_8f7f_acde48001122row15_col1 {\n            : ;\n            text-align:  left;\n        }    #T_4386daba_c783_11ea_8f7f_acde48001122row15_col2 {\n            : ;\n            text-align:  left;\n        }    #T_4386daba_c783_11ea_8f7f_acde48001122row15_col3 {\n            : ;\n            text-align:  left;\n        }    #T_4386daba_c783_11ea_8f7f_acde48001122row15_col4 {\n            text-align:  left;\n        }    #T_4386daba_c783_11ea_8f7f_acde48001122row15_col5 {\n            : ;\n            text-align:  left;\n        }    #T_4386daba_c783_11ea_8f7f_acde48001122row15_col6 {\n            : ;\n            text-align:  left;\n        }    #T_4386daba_c783_11ea_8f7f_acde48001122row16_col0 {\n            text-align:  left;\n        }    #T_4386daba_c783_11ea_8f7f_acde48001122row16_col1 {\n            : ;\n            text-align:  left;\n        }    #T_4386daba_c783_11ea_8f7f_acde48001122row16_col2 {\n            : ;\n            text-align:  left;\n        }    #T_4386daba_c783_11ea_8f7f_acde48001122row16_col3 {\n            : ;\n            text-align:  left;\n        }    #T_4386daba_c783_11ea_8f7f_acde48001122row16_col4 {\n            text-align:  left;\n        }    #T_4386daba_c783_11ea_8f7f_acde48001122row16_col5 {\n            : ;\n            text-align:  left;\n        }    #T_4386daba_c783_11ea_8f7f_acde48001122row16_col6 {\n            : ;\n            text-align:  left;\n        }    #T_4386daba_c783_11ea_8f7f_acde48001122row17_col0 {\n            text-align:  left;\n        }    #T_4386daba_c783_11ea_8f7f_acde48001122row17_col1 {\n            : ;\n            text-align:  left;\n        }    #T_4386daba_c783_11ea_8f7f_acde48001122row17_col2 {\n            : ;\n            text-align:  left;\n        }    #T_4386daba_c783_11ea_8f7f_acde48001122row17_col3 {\n            : ;\n            text-align:  left;\n        }    #T_4386daba_c783_11ea_8f7f_acde48001122row17_col4 {\n            text-align:  left;\n        }    #T_4386daba_c783_11ea_8f7f_acde48001122row17_col5 {\n            : ;\n            text-align:  left;\n        }    #T_4386daba_c783_11ea_8f7f_acde48001122row17_col6 {\n            : ;\n            text-align:  left;\n        }    #T_4386daba_c783_11ea_8f7f_acde48001122row18_col0 {\n            text-align:  left;\n        }    #T_4386daba_c783_11ea_8f7f_acde48001122row18_col1 {\n            : ;\n            text-align:  left;\n        }    #T_4386daba_c783_11ea_8f7f_acde48001122row18_col2 {\n            : ;\n            text-align:  left;\n        }    #T_4386daba_c783_11ea_8f7f_acde48001122row18_col3 {\n            : ;\n            text-align:  left;\n        }    #T_4386daba_c783_11ea_8f7f_acde48001122row18_col4 {\n            text-align:  left;\n        }    #T_4386daba_c783_11ea_8f7f_acde48001122row18_col5 {\n            : ;\n            text-align:  left;\n        }    #T_4386daba_c783_11ea_8f7f_acde48001122row18_col6 {\n            : ;\n            text-align:  left;\n        }    #T_4386daba_c783_11ea_8f7f_acde48001122row19_col0 {\n            text-align:  left;\n        }    #T_4386daba_c783_11ea_8f7f_acde48001122row19_col1 {\n            : ;\n            text-align:  left;\n        }    #T_4386daba_c783_11ea_8f7f_acde48001122row19_col2 {\n            : ;\n            text-align:  left;\n        }    #T_4386daba_c783_11ea_8f7f_acde48001122row19_col3 {\n            : ;\n            text-align:  left;\n        }    #T_4386daba_c783_11ea_8f7f_acde48001122row19_col4 {\n            text-align:  left;\n        }    #T_4386daba_c783_11ea_8f7f_acde48001122row19_col5 {\n            : ;\n            text-align:  left;\n        }    #T_4386daba_c783_11ea_8f7f_acde48001122row19_col6 {\n            : ;\n            text-align:  left;\n        }    #T_4386daba_c783_11ea_8f7f_acde48001122row20_col0 {\n            text-align:  left;\n        }    #T_4386daba_c783_11ea_8f7f_acde48001122row20_col1 {\n            : ;\n            text-align:  left;\n        }    #T_4386daba_c783_11ea_8f7f_acde48001122row20_col2 {\n            : ;\n            text-align:  left;\n        }    #T_4386daba_c783_11ea_8f7f_acde48001122row20_col3 {\n            : ;\n            text-align:  left;\n        }    #T_4386daba_c783_11ea_8f7f_acde48001122row20_col4 {\n            text-align:  left;\n        }    #T_4386daba_c783_11ea_8f7f_acde48001122row20_col5 {\n            : ;\n            text-align:  left;\n        }    #T_4386daba_c783_11ea_8f7f_acde48001122row20_col6 {\n            : ;\n            text-align:  left;\n        }    #T_4386daba_c783_11ea_8f7f_acde48001122row21_col0 {\n            text-align:  left;\n        }    #T_4386daba_c783_11ea_8f7f_acde48001122row21_col1 {\n            : ;\n            text-align:  left;\n        }    #T_4386daba_c783_11ea_8f7f_acde48001122row21_col2 {\n            : ;\n            text-align:  left;\n        }    #T_4386daba_c783_11ea_8f7f_acde48001122row21_col3 {\n            : ;\n            text-align:  left;\n        }    #T_4386daba_c783_11ea_8f7f_acde48001122row21_col4 {\n            text-align:  left;\n        }    #T_4386daba_c783_11ea_8f7f_acde48001122row21_col5 {\n            : ;\n            text-align:  left;\n        }    #T_4386daba_c783_11ea_8f7f_acde48001122row21_col6 {\n            : ;\n            text-align:  left;\n        }</style><table id=\"T_4386daba_c783_11ea_8f7f_acde48001122\" ><thead>    <tr>        <th class=\"blank level0\" ></th>        <th class=\"col_heading level0 col0\" >Model</th>        <th class=\"col_heading level0 col1\" >MAE</th>        <th class=\"col_heading level0 col2\" >MSE</th>        <th class=\"col_heading level0 col3\" >RMSE</th>        <th class=\"col_heading level0 col4\" >R2</th>        <th class=\"col_heading level0 col5\" >RMSLE</th>        <th class=\"col_heading level0 col6\" >MAPE</th>    </tr></thead><tbody>\n                <tr>\n                        <th id=\"T_4386daba_c783_11ea_8f7f_acde48001122level0_row0\" class=\"row_heading level0 row0\" >0</th>\n                        <td id=\"T_4386daba_c783_11ea_8f7f_acde48001122row0_col0\" class=\"data row0 col0\" >Gradient Boosting Regressor</td>\n                        <td id=\"T_4386daba_c783_11ea_8f7f_acde48001122row0_col1\" class=\"data row0 col1\" >315.546400</td>\n                        <td id=\"T_4386daba_c783_11ea_8f7f_acde48001122row0_col2\" class=\"data row0 col2\" >43625220.304800</td>\n                        <td id=\"T_4386daba_c783_11ea_8f7f_acde48001122row0_col3\" class=\"data row0 col3\" >3316.499400</td>\n                        <td id=\"T_4386daba_c783_11ea_8f7f_acde48001122row0_col4\" class=\"data row0 col4\" >0.820400</td>\n                        <td id=\"T_4386daba_c783_11ea_8f7f_acde48001122row0_col5\" class=\"data row0 col5\" >0.062500</td>\n                        <td id=\"T_4386daba_c783_11ea_8f7f_acde48001122row0_col6\" class=\"data row0 col6\" >0.026600</td>\n            </tr>\n            <tr>\n                        <th id=\"T_4386daba_c783_11ea_8f7f_acde48001122level0_row1\" class=\"row_heading level0 row1\" >1</th>\n                        <td id=\"T_4386daba_c783_11ea_8f7f_acde48001122row1_col0\" class=\"data row1 col0\" >Extra Trees Regressor</td>\n                        <td id=\"T_4386daba_c783_11ea_8f7f_acde48001122row1_col1\" class=\"data row1 col1\" >265.455800</td>\n                        <td id=\"T_4386daba_c783_11ea_8f7f_acde48001122row1_col2\" class=\"data row1 col2\" >44846950.034300</td>\n                        <td id=\"T_4386daba_c783_11ea_8f7f_acde48001122row1_col3\" class=\"data row1 col3\" >3316.277300</td>\n                        <td id=\"T_4386daba_c783_11ea_8f7f_acde48001122row1_col4\" class=\"data row1 col4\" >0.816200</td>\n                        <td id=\"T_4386daba_c783_11ea_8f7f_acde48001122row1_col5\" class=\"data row1 col5\" >0.059300</td>\n                        <td id=\"T_4386daba_c783_11ea_8f7f_acde48001122row1_col6\" class=\"data row1 col6\" >0.016100</td>\n            </tr>\n            <tr>\n                        <th id=\"T_4386daba_c783_11ea_8f7f_acde48001122level0_row2\" class=\"row_heading level0 row2\" >2</th>\n                        <td id=\"T_4386daba_c783_11ea_8f7f_acde48001122row2_col0\" class=\"data row2 col0\" >Random Forest</td>\n                        <td id=\"T_4386daba_c783_11ea_8f7f_acde48001122row2_col1\" class=\"data row2 col1\" >277.247600</td>\n                        <td id=\"T_4386daba_c783_11ea_8f7f_acde48001122row2_col2\" class=\"data row2 col2\" >44903673.475200</td>\n                        <td id=\"T_4386daba_c783_11ea_8f7f_acde48001122row2_col3\" class=\"data row2 col3\" >3328.554000</td>\n                        <td id=\"T_4386daba_c783_11ea_8f7f_acde48001122row2_col4\" class=\"data row2 col4\" >0.816200</td>\n                        <td id=\"T_4386daba_c783_11ea_8f7f_acde48001122row2_col5\" class=\"data row2 col5\" >0.063600</td>\n                        <td id=\"T_4386daba_c783_11ea_8f7f_acde48001122row2_col6\" class=\"data row2 col6\" >0.018200</td>\n            </tr>\n            <tr>\n                        <th id=\"T_4386daba_c783_11ea_8f7f_acde48001122level0_row3\" class=\"row_heading level0 row3\" >3</th>\n                        <td id=\"T_4386daba_c783_11ea_8f7f_acde48001122row3_col0\" class=\"data row3 col0\" >CatBoost Regressor</td>\n                        <td id=\"T_4386daba_c783_11ea_8f7f_acde48001122row3_col1\" class=\"data row3 col1\" >259.280300</td>\n                        <td id=\"T_4386daba_c783_11ea_8f7f_acde48001122row3_col2\" class=\"data row3 col2\" >44088232.181100</td>\n                        <td id=\"T_4386daba_c783_11ea_8f7f_acde48001122row3_col3\" class=\"data row3 col3\" >3430.659600</td>\n                        <td id=\"T_4386daba_c783_11ea_8f7f_acde48001122row3_col4\" class=\"data row3 col4\" >0.812100</td>\n                        <td id=\"T_4386daba_c783_11ea_8f7f_acde48001122row3_col5\" class=\"data row3 col5\" >0.055600</td>\n                        <td id=\"T_4386daba_c783_11ea_8f7f_acde48001122row3_col6\" class=\"data row3 col6\" >0.014500</td>\n            </tr>\n            <tr>\n                        <th id=\"T_4386daba_c783_11ea_8f7f_acde48001122level0_row4\" class=\"row_heading level0 row4\" >4</th>\n                        <td id=\"T_4386daba_c783_11ea_8f7f_acde48001122row4_col0\" class=\"data row4 col0\" >Support Vector Machine</td>\n                        <td id=\"T_4386daba_c783_11ea_8f7f_acde48001122row4_col1\" class=\"data row4 col1\" >436.555300</td>\n                        <td id=\"T_4386daba_c783_11ea_8f7f_acde48001122row4_col2\" class=\"data row4 col2\" >44886515.185600</td>\n                        <td id=\"T_4386daba_c783_11ea_8f7f_acde48001122row4_col3\" class=\"data row4 col3\" >3446.125300</td>\n                        <td id=\"T_4386daba_c783_11ea_8f7f_acde48001122row4_col4\" class=\"data row4 col4\" >0.811900</td>\n                        <td id=\"T_4386daba_c783_11ea_8f7f_acde48001122row4_col5\" class=\"data row4 col5\" >0.081200</td>\n                        <td id=\"T_4386daba_c783_11ea_8f7f_acde48001122row4_col6\" class=\"data row4 col6\" >0.043200</td>\n            </tr>\n            <tr>\n                        <th id=\"T_4386daba_c783_11ea_8f7f_acde48001122level0_row5\" class=\"row_heading level0 row5\" >5</th>\n                        <td id=\"T_4386daba_c783_11ea_8f7f_acde48001122row5_col0\" class=\"data row5 col0\" >Light Gradient Boosting Machine</td>\n                        <td id=\"T_4386daba_c783_11ea_8f7f_acde48001122row5_col1\" class=\"data row5 col1\" >308.852700</td>\n                        <td id=\"T_4386daba_c783_11ea_8f7f_acde48001122row5_col2\" class=\"data row5 col2\" >44392861.846900</td>\n                        <td id=\"T_4386daba_c783_11ea_8f7f_acde48001122row5_col3\" class=\"data row5 col3\" >3453.036800</td>\n                        <td id=\"T_4386daba_c783_11ea_8f7f_acde48001122row5_col4\" class=\"data row5 col4\" >0.811200</td>\n                        <td id=\"T_4386daba_c783_11ea_8f7f_acde48001122row5_col5\" class=\"data row5 col5\" >0.064300</td>\n                        <td id=\"T_4386daba_c783_11ea_8f7f_acde48001122row5_col6\" class=\"data row5 col6\" >0.019900</td>\n            </tr>\n            <tr>\n                        <th id=\"T_4386daba_c783_11ea_8f7f_acde48001122level0_row6\" class=\"row_heading level0 row6\" >6</th>\n                        <td id=\"T_4386daba_c783_11ea_8f7f_acde48001122row6_col0\" class=\"data row6 col0\" >Extreme Gradient Boosting</td>\n                        <td id=\"T_4386daba_c783_11ea_8f7f_acde48001122row6_col1\" class=\"data row6 col1\" >329.387300</td>\n                        <td id=\"T_4386daba_c783_11ea_8f7f_acde48001122row6_col2\" class=\"data row6 col2\" >43619821.887000</td>\n                        <td id=\"T_4386daba_c783_11ea_8f7f_acde48001122row6_col3\" class=\"data row6 col3\" >3435.172700</td>\n                        <td id=\"T_4386daba_c783_11ea_8f7f_acde48001122row6_col4\" class=\"data row6 col4\" >0.809400</td>\n                        <td id=\"T_4386daba_c783_11ea_8f7f_acde48001122row6_col5\" class=\"data row6 col5\" >0.066200</td>\n                        <td id=\"T_4386daba_c783_11ea_8f7f_acde48001122row6_col6\" class=\"data row6 col6\" >0.028300</td>\n            </tr>\n            <tr>\n                        <th id=\"T_4386daba_c783_11ea_8f7f_acde48001122level0_row7\" class=\"row_heading level0 row7\" >7</th>\n                        <td id=\"T_4386daba_c783_11ea_8f7f_acde48001122row7_col0\" class=\"data row7 col0\" >Huber Regressor</td>\n                        <td id=\"T_4386daba_c783_11ea_8f7f_acde48001122row7_col1\" class=\"data row7 col1\" >587.352100</td>\n                        <td id=\"T_4386daba_c783_11ea_8f7f_acde48001122row7_col2\" class=\"data row7 col2\" >44897998.938700</td>\n                        <td id=\"T_4386daba_c783_11ea_8f7f_acde48001122row7_col3\" class=\"data row7 col3\" >3574.102100</td>\n                        <td id=\"T_4386daba_c783_11ea_8f7f_acde48001122row7_col4\" class=\"data row7 col4\" >0.805700</td>\n                        <td id=\"T_4386daba_c783_11ea_8f7f_acde48001122row7_col5\" class=\"data row7 col5\" >0.127800</td>\n                        <td id=\"T_4386daba_c783_11ea_8f7f_acde48001122row7_col6\" class=\"data row7 col6\" >0.076000</td>\n            </tr>\n            <tr>\n                        <th id=\"T_4386daba_c783_11ea_8f7f_acde48001122level0_row8\" class=\"row_heading level0 row8\" >8</th>\n                        <td id=\"T_4386daba_c783_11ea_8f7f_acde48001122row8_col0\" class=\"data row8 col0\" >Random Sample Consensus</td>\n                        <td id=\"T_4386daba_c783_11ea_8f7f_acde48001122row8_col1\" class=\"data row8 col1\" >660.723800</td>\n                        <td id=\"T_4386daba_c783_11ea_8f7f_acde48001122row8_col2\" class=\"data row8 col2\" >45042967.323800</td>\n                        <td id=\"T_4386daba_c783_11ea_8f7f_acde48001122row8_col3\" class=\"data row8 col3\" >3666.452800</td>\n                        <td id=\"T_4386daba_c783_11ea_8f7f_acde48001122row8_col4\" class=\"data row8 col4\" >0.798400</td>\n                        <td id=\"T_4386daba_c783_11ea_8f7f_acde48001122row8_col5\" class=\"data row8 col5\" >0.126100</td>\n                        <td id=\"T_4386daba_c783_11ea_8f7f_acde48001122row8_col6\" class=\"data row8 col6\" >0.079900</td>\n            </tr>\n            <tr>\n                        <th id=\"T_4386daba_c783_11ea_8f7f_acde48001122level0_row9\" class=\"row_heading level0 row9\" >9</th>\n                        <td id=\"T_4386daba_c783_11ea_8f7f_acde48001122row9_col0\" class=\"data row9 col0\" >TheilSen Regressor</td>\n                        <td id=\"T_4386daba_c783_11ea_8f7f_acde48001122row9_col1\" class=\"data row9 col1\" >679.451400</td>\n                        <td id=\"T_4386daba_c783_11ea_8f7f_acde48001122row9_col2\" class=\"data row9 col2\" >45086964.974300</td>\n                        <td id=\"T_4386daba_c783_11ea_8f7f_acde48001122row9_col3\" class=\"data row9 col3\" >3697.417300</td>\n                        <td id=\"T_4386daba_c783_11ea_8f7f_acde48001122row9_col4\" class=\"data row9 col4\" >0.796000</td>\n                        <td id=\"T_4386daba_c783_11ea_8f7f_acde48001122row9_col5\" class=\"data row9 col5\" >0.127400</td>\n                        <td id=\"T_4386daba_c783_11ea_8f7f_acde48001122row9_col6\" class=\"data row9 col6\" >0.080000</td>\n            </tr>\n            <tr>\n                        <th id=\"T_4386daba_c783_11ea_8f7f_acde48001122level0_row10\" class=\"row_heading level0 row10\" >10</th>\n                        <td id=\"T_4386daba_c783_11ea_8f7f_acde48001122row10_col0\" class=\"data row10 col0\" >Ridge Regression</td>\n                        <td id=\"T_4386daba_c783_11ea_8f7f_acde48001122row10_col1\" class=\"data row10 col1\" >677.722200</td>\n                        <td id=\"T_4386daba_c783_11ea_8f7f_acde48001122row10_col2\" class=\"data row10 col2\" >45140126.044200</td>\n                        <td id=\"T_4386daba_c783_11ea_8f7f_acde48001122row10_col3\" class=\"data row10 col3\" >3716.089100</td>\n                        <td id=\"T_4386daba_c783_11ea_8f7f_acde48001122row10_col4\" class=\"data row10 col4\" >0.794000</td>\n                        <td id=\"T_4386daba_c783_11ea_8f7f_acde48001122row10_col5\" class=\"data row10 col5\" >0.126400</td>\n                        <td id=\"T_4386daba_c783_11ea_8f7f_acde48001122row10_col6\" class=\"data row10 col6\" >0.080800</td>\n            </tr>\n            <tr>\n                        <th id=\"T_4386daba_c783_11ea_8f7f_acde48001122level0_row11\" class=\"row_heading level0 row11\" >11</th>\n                        <td id=\"T_4386daba_c783_11ea_8f7f_acde48001122row11_col0\" class=\"data row11 col0\" >Bayesian Ridge</td>\n                        <td id=\"T_4386daba_c783_11ea_8f7f_acde48001122row11_col1\" class=\"data row11 col1\" >677.743000</td>\n                        <td id=\"T_4386daba_c783_11ea_8f7f_acde48001122row11_col2\" class=\"data row11 col2\" >45140185.560600</td>\n                        <td id=\"T_4386daba_c783_11ea_8f7f_acde48001122row11_col3\" class=\"data row11 col3\" >3716.100600</td>\n                        <td id=\"T_4386daba_c783_11ea_8f7f_acde48001122row11_col4\" class=\"data row11 col4\" >0.794000</td>\n                        <td id=\"T_4386daba_c783_11ea_8f7f_acde48001122row11_col5\" class=\"data row11 col5\" >0.126400</td>\n                        <td id=\"T_4386daba_c783_11ea_8f7f_acde48001122row11_col6\" class=\"data row11 col6\" >0.080800</td>\n            </tr>\n            <tr>\n                        <th id=\"T_4386daba_c783_11ea_8f7f_acde48001122level0_row12\" class=\"row_heading level0 row12\" >12</th>\n                        <td id=\"T_4386daba_c783_11ea_8f7f_acde48001122row12_col0\" class=\"data row12 col0\" >Linear Regression</td>\n                        <td id=\"T_4386daba_c783_11ea_8f7f_acde48001122row12_col1\" class=\"data row12 col1\" >678.124200</td>\n                        <td id=\"T_4386daba_c783_11ea_8f7f_acde48001122row12_col2\" class=\"data row12 col2\" >45143593.760100</td>\n                        <td id=\"T_4386daba_c783_11ea_8f7f_acde48001122row12_col3\" class=\"data row12 col3\" >3716.721100</td>\n                        <td id=\"T_4386daba_c783_11ea_8f7f_acde48001122row12_col4\" class=\"data row12 col4\" >0.793900</td>\n                        <td id=\"T_4386daba_c783_11ea_8f7f_acde48001122row12_col5\" class=\"data row12 col5\" >0.126400</td>\n                        <td id=\"T_4386daba_c783_11ea_8f7f_acde48001122row12_col6\" class=\"data row12 col6\" >0.080800</td>\n            </tr>\n            <tr>\n                        <th id=\"T_4386daba_c783_11ea_8f7f_acde48001122level0_row13\" class=\"row_heading level0 row13\" >13</th>\n                        <td id=\"T_4386daba_c783_11ea_8f7f_acde48001122row13_col0\" class=\"data row13 col0\" >Least Angle Regression</td>\n                        <td id=\"T_4386daba_c783_11ea_8f7f_acde48001122row13_col1\" class=\"data row13 col1\" >716.185300</td>\n                        <td id=\"T_4386daba_c783_11ea_8f7f_acde48001122row13_col2\" class=\"data row13 col2\" >45280918.372000</td>\n                        <td id=\"T_4386daba_c783_11ea_8f7f_acde48001122row13_col3\" class=\"data row13 col3\" >3774.322400</td>\n                        <td id=\"T_4386daba_c783_11ea_8f7f_acde48001122row13_col4\" class=\"data row13 col4\" >0.788100</td>\n                        <td id=\"T_4386daba_c783_11ea_8f7f_acde48001122row13_col5\" class=\"data row13 col5\" >0.134400</td>\n                        <td id=\"T_4386daba_c783_11ea_8f7f_acde48001122row13_col6\" class=\"data row13 col6\" >0.087500</td>\n            </tr>\n            <tr>\n                        <th id=\"T_4386daba_c783_11ea_8f7f_acde48001122level0_row14\" class=\"row_heading level0 row14\" >14</th>\n                        <td id=\"T_4386daba_c783_11ea_8f7f_acde48001122row14_col0\" class=\"data row14 col0\" >Orthogonal Matching Pursuit</td>\n                        <td id=\"T_4386daba_c783_11ea_8f7f_acde48001122row14_col1\" class=\"data row14 col1\" >856.516900</td>\n                        <td id=\"T_4386daba_c783_11ea_8f7f_acde48001122row14_col2\" class=\"data row14 col2\" >45785040.751900</td>\n                        <td id=\"T_4386daba_c783_11ea_8f7f_acde48001122row14_col3\" class=\"data row14 col3\" >3914.271000</td>\n                        <td id=\"T_4386daba_c783_11ea_8f7f_acde48001122row14_col4\" class=\"data row14 col4\" >0.773700</td>\n                        <td id=\"T_4386daba_c783_11ea_8f7f_acde48001122row14_col5\" class=\"data row14 col5\" >0.153900</td>\n                        <td id=\"T_4386daba_c783_11ea_8f7f_acde48001122row14_col6\" class=\"data row14 col6\" >0.101600</td>\n            </tr>\n            <tr>\n                        <th id=\"T_4386daba_c783_11ea_8f7f_acde48001122level0_row15\" class=\"row_heading level0 row15\" >15</th>\n                        <td id=\"T_4386daba_c783_11ea_8f7f_acde48001122row15_col0\" class=\"data row15 col0\" >Passive Aggressive Regressor</td>\n                        <td id=\"T_4386daba_c783_11ea_8f7f_acde48001122row15_col1\" class=\"data row15 col1\" >813.286900</td>\n                        <td id=\"T_4386daba_c783_11ea_8f7f_acde48001122row15_col2\" class=\"data row15 col2\" >45829027.621400</td>\n                        <td id=\"T_4386daba_c783_11ea_8f7f_acde48001122row15_col3\" class=\"data row15 col3\" >3976.187700</td>\n                        <td id=\"T_4386daba_c783_11ea_8f7f_acde48001122row15_col4\" class=\"data row15 col4\" >0.764300</td>\n                        <td id=\"T_4386daba_c783_11ea_8f7f_acde48001122row15_col5\" class=\"data row15 col5\" >0.146400</td>\n                        <td id=\"T_4386daba_c783_11ea_8f7f_acde48001122row15_col6\" class=\"data row15 col6\" >0.097600</td>\n            </tr>\n            <tr>\n                        <th id=\"T_4386daba_c783_11ea_8f7f_acde48001122level0_row16\" class=\"row_heading level0 row16\" >16</th>\n                        <td id=\"T_4386daba_c783_11ea_8f7f_acde48001122row16_col0\" class=\"data row16 col0\" >AdaBoost Regressor</td>\n                        <td id=\"T_4386daba_c783_11ea_8f7f_acde48001122row16_col1\" class=\"data row16 col1\" >869.102700</td>\n                        <td id=\"T_4386daba_c783_11ea_8f7f_acde48001122row16_col2\" class=\"data row16 col2\" >47051326.126400</td>\n                        <td id=\"T_4386daba_c783_11ea_8f7f_acde48001122row16_col3\" class=\"data row16 col3\" >4052.544600</td>\n                        <td id=\"T_4386daba_c783_11ea_8f7f_acde48001122row16_col4\" class=\"data row16 col4\" >0.755400</td>\n                        <td id=\"T_4386daba_c783_11ea_8f7f_acde48001122row16_col5\" class=\"data row16 col5\" >0.158900</td>\n                        <td id=\"T_4386daba_c783_11ea_8f7f_acde48001122row16_col6\" class=\"data row16 col6\" >0.113600</td>\n            </tr>\n            <tr>\n                        <th id=\"T_4386daba_c783_11ea_8f7f_acde48001122level0_row17\" class=\"row_heading level0 row17\" >17</th>\n                        <td id=\"T_4386daba_c783_11ea_8f7f_acde48001122row17_col0\" class=\"data row17 col0\" >K Neighbors Regressor</td>\n                        <td id=\"T_4386daba_c783_11ea_8f7f_acde48001122row17_col1\" class=\"data row17 col1\" >1023.223000</td>\n                        <td id=\"T_4386daba_c783_11ea_8f7f_acde48001122row17_col2\" class=\"data row17 col2\" >47428140.934100</td>\n                        <td id=\"T_4386daba_c783_11ea_8f7f_acde48001122row17_col3\" class=\"data row17 col3\" >4155.817100</td>\n                        <td id=\"T_4386daba_c783_11ea_8f7f_acde48001122row17_col4\" class=\"data row17 col4\" >0.742000</td>\n                        <td id=\"T_4386daba_c783_11ea_8f7f_acde48001122row17_col5\" class=\"data row17 col5\" >0.201600</td>\n                        <td id=\"T_4386daba_c783_11ea_8f7f_acde48001122row17_col6\" class=\"data row17 col6\" >0.142100</td>\n            </tr>\n            <tr>\n                        <th id=\"T_4386daba_c783_11ea_8f7f_acde48001122level0_row18\" class=\"row_heading level0 row18\" >18</th>\n                        <td id=\"T_4386daba_c783_11ea_8f7f_acde48001122row18_col0\" class=\"data row18 col0\" >Elastic Net</td>\n                        <td id=\"T_4386daba_c783_11ea_8f7f_acde48001122row18_col1\" class=\"data row18 col1\" >2674.696100</td>\n                        <td id=\"T_4386daba_c783_11ea_8f7f_acde48001122row18_col2\" class=\"data row18 col2\" >62279781.703300</td>\n                        <td id=\"T_4386daba_c783_11ea_8f7f_acde48001122row18_col3\" class=\"data row18 col3\" >6266.326300</td>\n                        <td id=\"T_4386daba_c783_11ea_8f7f_acde48001122row18_col4\" class=\"data row18 col4\" >0.244000</td>\n                        <td id=\"T_4386daba_c783_11ea_8f7f_acde48001122row18_col5\" class=\"data row18 col5\" >0.543300</td>\n                        <td id=\"T_4386daba_c783_11ea_8f7f_acde48001122row18_col6\" class=\"data row18 col6\" >0.471600</td>\n            </tr>\n            <tr>\n                        <th id=\"T_4386daba_c783_11ea_8f7f_acde48001122level0_row19\" class=\"row_heading level0 row19\" >19</th>\n                        <td id=\"T_4386daba_c783_11ea_8f7f_acde48001122row19_col0\" class=\"data row19 col0\" >Lasso Regression</td>\n                        <td id=\"T_4386daba_c783_11ea_8f7f_acde48001122row19_col1\" class=\"data row19 col1\" >3580.385000</td>\n                        <td id=\"T_4386daba_c783_11ea_8f7f_acde48001122row19_col2\" class=\"data row19 col2\" >71970946.880200</td>\n                        <td id=\"T_4386daba_c783_11ea_8f7f_acde48001122row19_col3\" class=\"data row19 col3\" >7165.725400</td>\n                        <td id=\"T_4386daba_c783_11ea_8f7f_acde48001122row19_col4\" class=\"data row19 col4\" >-0.094800</td>\n                        <td id=\"T_4386daba_c783_11ea_8f7f_acde48001122row19_col5\" class=\"data row19 col5\" >0.773000</td>\n                        <td id=\"T_4386daba_c783_11ea_8f7f_acde48001122row19_col6\" class=\"data row19 col6\" >0.729800</td>\n            </tr>\n            <tr>\n                        <th id=\"T_4386daba_c783_11ea_8f7f_acde48001122level0_row20\" class=\"row_heading level0 row20\" >20</th>\n                        <td id=\"T_4386daba_c783_11ea_8f7f_acde48001122row20_col0\" class=\"data row20 col0\" >Lasso Least Angle Regression</td>\n                        <td id=\"T_4386daba_c783_11ea_8f7f_acde48001122row20_col1\" class=\"data row20 col1\" >3580.385000</td>\n                        <td id=\"T_4386daba_c783_11ea_8f7f_acde48001122row20_col2\" class=\"data row20 col2\" >71970946.880200</td>\n                        <td id=\"T_4386daba_c783_11ea_8f7f_acde48001122row20_col3\" class=\"data row20 col3\" >7165.725400</td>\n                        <td id=\"T_4386daba_c783_11ea_8f7f_acde48001122row20_col4\" class=\"data row20 col4\" >-0.094800</td>\n                        <td id=\"T_4386daba_c783_11ea_8f7f_acde48001122row20_col5\" class=\"data row20 col5\" >0.773000</td>\n                        <td id=\"T_4386daba_c783_11ea_8f7f_acde48001122row20_col6\" class=\"data row20 col6\" >0.729800</td>\n            </tr>\n            <tr>\n                        <th id=\"T_4386daba_c783_11ea_8f7f_acde48001122level0_row21\" class=\"row_heading level0 row21\" >21</th>\n                        <td id=\"T_4386daba_c783_11ea_8f7f_acde48001122row21_col0\" class=\"data row21 col0\" >Decision Tree</td>\n                        <td id=\"T_4386daba_c783_11ea_8f7f_acde48001122row21_col1\" class=\"data row21 col1\" >475.823000</td>\n                        <td id=\"T_4386daba_c783_11ea_8f7f_acde48001122row21_col2\" class=\"data row21 col2\" >77848235.492600</td>\n                        <td id=\"T_4386daba_c783_11ea_8f7f_acde48001122row21_col3\" class=\"data row21 col3\" >5184.522400</td>\n                        <td id=\"T_4386daba_c783_11ea_8f7f_acde48001122row21_col4\" class=\"data row21 col4\" >-0.625900</td>\n                        <td id=\"T_4386daba_c783_11ea_8f7f_acde48001122row21_col5\" class=\"data row21 col5\" >0.092700</td>\n                        <td id=\"T_4386daba_c783_11ea_8f7f_acde48001122row21_col6\" class=\"data row21 col6\" >0.042800</td>\n            </tr>\n    </tbody></table>"
     },
     "metadata": {},
     "execution_count": 47
    }
   ],
   "source": [
    "compare_models()"
   ]
  },
  {
   "cell_type": "code",
   "execution_count": 49,
   "metadata": {},
   "outputs": [
    {
     "output_type": "display_data",
     "data": {
      "text/plain": "            MAE           MSE        RMSE      R2   RMSLE    MAPE\n0      212.8554  3.107122e+06   1762.7031  0.8923  0.0582  0.0187\n1       94.2556  3.730315e+04    193.1402  0.9980  0.0207  0.0147\n2      672.3558  1.149863e+08  10723.1653  0.2413  0.1325  0.0191\n3      102.7386  4.997626e+04    223.5537  0.9976  0.0253  0.0155\n4      129.8522  1.219159e+05    349.1645  0.9947  0.0287  0.0167\n5      126.8153  1.732673e+05    416.2539  0.9926  0.0297  0.0156\n6     1022.8964  3.301901e+08  18171.1327  0.0687  0.1950  0.0195\n7      125.1912  2.665193e+05    516.2551  0.9884  0.0458  0.0174\n8      132.1677  2.547412e+05    504.7189  0.9896  0.0298  0.0155\n9      104.2024  7.824070e+04    279.7154  0.9961  0.0324  0.0170\nMean   272.3330  4.492654e+07   3313.9803  0.8159  0.0598  0.0170\nSD     299.7359  1.010313e+08   5826.1546  0.3341  0.0548  0.0016",
      "text/html": "<div>\n<style scoped>\n    .dataframe tbody tr th:only-of-type {\n        vertical-align: middle;\n    }\n\n    .dataframe tbody tr th {\n        vertical-align: top;\n    }\n\n    .dataframe thead th {\n        text-align: right;\n    }\n</style>\n<table border=\"1\" class=\"dataframe\">\n  <thead>\n    <tr style=\"text-align: right;\">\n      <th></th>\n      <th>MAE</th>\n      <th>MSE</th>\n      <th>RMSE</th>\n      <th>R2</th>\n      <th>RMSLE</th>\n      <th>MAPE</th>\n    </tr>\n  </thead>\n  <tbody>\n    <tr>\n      <th>0</th>\n      <td>212.8554</td>\n      <td>3.107122e+06</td>\n      <td>1762.7031</td>\n      <td>0.8923</td>\n      <td>0.0582</td>\n      <td>0.0187</td>\n    </tr>\n    <tr>\n      <th>1</th>\n      <td>94.2556</td>\n      <td>3.730315e+04</td>\n      <td>193.1402</td>\n      <td>0.9980</td>\n      <td>0.0207</td>\n      <td>0.0147</td>\n    </tr>\n    <tr>\n      <th>2</th>\n      <td>672.3558</td>\n      <td>1.149863e+08</td>\n      <td>10723.1653</td>\n      <td>0.2413</td>\n      <td>0.1325</td>\n      <td>0.0191</td>\n    </tr>\n    <tr>\n      <th>3</th>\n      <td>102.7386</td>\n      <td>4.997626e+04</td>\n      <td>223.5537</td>\n      <td>0.9976</td>\n      <td>0.0253</td>\n      <td>0.0155</td>\n    </tr>\n    <tr>\n      <th>4</th>\n      <td>129.8522</td>\n      <td>1.219159e+05</td>\n      <td>349.1645</td>\n      <td>0.9947</td>\n      <td>0.0287</td>\n      <td>0.0167</td>\n    </tr>\n    <tr>\n      <th>5</th>\n      <td>126.8153</td>\n      <td>1.732673e+05</td>\n      <td>416.2539</td>\n      <td>0.9926</td>\n      <td>0.0297</td>\n      <td>0.0156</td>\n    </tr>\n    <tr>\n      <th>6</th>\n      <td>1022.8964</td>\n      <td>3.301901e+08</td>\n      <td>18171.1327</td>\n      <td>0.0687</td>\n      <td>0.1950</td>\n      <td>0.0195</td>\n    </tr>\n    <tr>\n      <th>7</th>\n      <td>125.1912</td>\n      <td>2.665193e+05</td>\n      <td>516.2551</td>\n      <td>0.9884</td>\n      <td>0.0458</td>\n      <td>0.0174</td>\n    </tr>\n    <tr>\n      <th>8</th>\n      <td>132.1677</td>\n      <td>2.547412e+05</td>\n      <td>504.7189</td>\n      <td>0.9896</td>\n      <td>0.0298</td>\n      <td>0.0155</td>\n    </tr>\n    <tr>\n      <th>9</th>\n      <td>104.2024</td>\n      <td>7.824070e+04</td>\n      <td>279.7154</td>\n      <td>0.9961</td>\n      <td>0.0324</td>\n      <td>0.0170</td>\n    </tr>\n    <tr>\n      <th>Mean</th>\n      <td>272.3330</td>\n      <td>4.492654e+07</td>\n      <td>3313.9803</td>\n      <td>0.8159</td>\n      <td>0.0598</td>\n      <td>0.0170</td>\n    </tr>\n    <tr>\n      <th>SD</th>\n      <td>299.7359</td>\n      <td>1.010313e+08</td>\n      <td>5826.1546</td>\n      <td>0.3341</td>\n      <td>0.0548</td>\n      <td>0.0016</td>\n    </tr>\n  </tbody>\n</table>\n</div>"
     },
     "metadata": {}
    }
   ],
   "source": [
    "tuned_extra_tree = tune_model('et')"
   ]
  },
  {
   "cell_type": "code",
   "execution_count": 50,
   "metadata": {},
   "outputs": [
    {
     "output_type": "display_data",
     "data": {
      "text/plain": "                         Parameters\nbootstrap                     False\nccp_alpha                         0\ncriterion                       mse\nmax_depth                        70\nmax_features                   auto\nmax_leaf_nodes                 None\nmax_samples                    None\nmin_impurity_decrease             0\nmin_impurity_split             None\nmin_samples_leaf                  2\nmin_samples_split                 7\nmin_weight_fraction_leaf          0\nn_estimators                    170\nn_jobs                         None\noob_score                     False\nrandom_state                    123\nverbose                           0\nwarm_start                    False",
      "text/html": "<div>\n<style scoped>\n    .dataframe tbody tr th:only-of-type {\n        vertical-align: middle;\n    }\n\n    .dataframe tbody tr th {\n        vertical-align: top;\n    }\n\n    .dataframe thead th {\n        text-align: right;\n    }\n</style>\n<table border=\"1\" class=\"dataframe\">\n  <thead>\n    <tr style=\"text-align: right;\">\n      <th></th>\n      <th>Parameters</th>\n    </tr>\n  </thead>\n  <tbody>\n    <tr>\n      <th>bootstrap</th>\n      <td>False</td>\n    </tr>\n    <tr>\n      <th>ccp_alpha</th>\n      <td>0</td>\n    </tr>\n    <tr>\n      <th>criterion</th>\n      <td>mse</td>\n    </tr>\n    <tr>\n      <th>max_depth</th>\n      <td>70</td>\n    </tr>\n    <tr>\n      <th>max_features</th>\n      <td>auto</td>\n    </tr>\n    <tr>\n      <th>max_leaf_nodes</th>\n      <td>None</td>\n    </tr>\n    <tr>\n      <th>max_samples</th>\n      <td>None</td>\n    </tr>\n    <tr>\n      <th>min_impurity_decrease</th>\n      <td>0</td>\n    </tr>\n    <tr>\n      <th>min_impurity_split</th>\n      <td>None</td>\n    </tr>\n    <tr>\n      <th>min_samples_leaf</th>\n      <td>2</td>\n    </tr>\n    <tr>\n      <th>min_samples_split</th>\n      <td>7</td>\n    </tr>\n    <tr>\n      <th>min_weight_fraction_leaf</th>\n      <td>0</td>\n    </tr>\n    <tr>\n      <th>n_estimators</th>\n      <td>170</td>\n    </tr>\n    <tr>\n      <th>n_jobs</th>\n      <td>None</td>\n    </tr>\n    <tr>\n      <th>oob_score</th>\n      <td>False</td>\n    </tr>\n    <tr>\n      <th>random_state</th>\n      <td>123</td>\n    </tr>\n    <tr>\n      <th>verbose</th>\n      <td>0</td>\n    </tr>\n    <tr>\n      <th>warm_start</th>\n      <td>False</td>\n    </tr>\n  </tbody>\n</table>\n</div>"
     },
     "metadata": {}
    }
   ],
   "source": [
    "plot_model(tuned_extra_tree, plot = 'parameter')\n"
   ]
  }
 ],
 "metadata": {
  "language_info": {
   "codemirror_mode": {
    "name": "ipython",
    "version": 3
   },
   "file_extension": ".py",
   "mimetype": "text/x-python",
   "name": "python",
   "nbconvert_exporter": "python",
   "pygments_lexer": "ipython3",
   "version": "3.7.6-final"
  },
  "orig_nbformat": 2,
  "kernelspec": {
   "name": "python3",
   "display_name": "Python 3"
  }
 },
 "nbformat": 4,
 "nbformat_minor": 2
}